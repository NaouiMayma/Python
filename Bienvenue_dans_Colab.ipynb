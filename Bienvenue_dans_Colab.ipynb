{
  "cells": [
    {
      "cell_type": "markdown",
      "metadata": {
        "id": "view-in-github",
        "colab_type": "text"
      },
      "source": [
        "<a href=\"https://colab.research.google.com/github/NaouiMayma/Python/blob/main/Bienvenue_dans_Colab.ipynb\" target=\"_parent\"><img src=\"https://colab.research.google.com/assets/colab-badge.svg\" alt=\"Open In Colab\"/></a>"
      ]
    },
    {
      "cell_type": "markdown",
      "source": [
        "# Les Variables\n"
      ],
      "metadata": {
        "id": "-jCloSVsT-PR"
      }
    },
    {
      "cell_type": "code",
      "source": [
        "#Nombre\n",
        "a = 5 #la variable a une valeur 5\n",
        "print(a)  #print pour afficher a"
      ],
      "metadata": {
        "colab": {
          "base_uri": "https://localhost:8080/"
        },
        "id": "dhZ5b29VULBV",
        "outputId": "25ac90c5-33a5-47fd-8b6b-b62490827be0"
      },
      "execution_count": 11,
      "outputs": [
        {
          "output_type": "stream",
          "name": "stdout",
          "text": [
            "5\n"
          ]
        }
      ]
    },
    {
      "cell_type": "code",
      "source": [
        "#Entier 1,2,3,4,5 .... => integer\n",
        "a=1\n",
        "print(a)\n",
        "a=2\n",
        "print(a)"
      ],
      "metadata": {
        "colab": {
          "base_uri": "https://localhost:8080/"
        },
        "id": "1-UVQ5IdU6Rx",
        "outputId": "5470cfc7-5cd3-4d46-d146-c9ea2b171125"
      },
      "execution_count": 12,
      "outputs": [
        {
          "output_type": "stream",
          "name": "stdout",
          "text": [
            "1\n",
            "2\n"
          ]
        }
      ]
    },
    {
      "cell_type": "code",
      "source": [
        "#Nombre Decimal => float\n",
        "a=1.2  #la virgule est un point\n",
        "print(a)"
      ],
      "metadata": {
        "colab": {
          "base_uri": "https://localhost:8080/"
        },
        "id": "ophKiz5wVSSz",
        "outputId": "bf37f470-fa87-44f8-fef9-40c49a809230"
      },
      "execution_count": 13,
      "outputs": [
        {
          "output_type": "stream",
          "name": "stdout",
          "text": [
            "1.2\n"
          ]
        }
      ]
    },
    {
      "cell_type": "code",
      "source": [
        "type(a)  #type est une fonction pour voir le type d'une variable\n"
      ],
      "metadata": {
        "colab": {
          "base_uri": "https://localhost:8080/"
        },
        "id": "32BrzX3DVoUg",
        "outputId": "9a018ff0-4a94-42f7-b026-0e7bc31844fd"
      },
      "execution_count": 14,
      "outputs": [
        {
          "output_type": "execute_result",
          "data": {
            "text/plain": [
              "float"
            ]
          },
          "metadata": {},
          "execution_count": 14
        }
      ]
    },
    {
      "cell_type": "code",
      "source": [
        "type(1)"
      ],
      "metadata": {
        "colab": {
          "base_uri": "https://localhost:8080/"
        },
        "id": "B7T557taV8G7",
        "outputId": "0c560d8e-75f3-463f-b3a3-3a6eb9658e06"
      },
      "execution_count": 15,
      "outputs": [
        {
          "output_type": "execute_result",
          "data": {
            "text/plain": [
              "int"
            ]
          },
          "metadata": {},
          "execution_count": 15
        }
      ]
    },
    {
      "cell_type": "code",
      "source": [
        "type(1,2) #la virgule des chiffres decimal est un point \"attention\""
      ],
      "metadata": {
        "colab": {
          "base_uri": "https://localhost:8080/",
          "height": 141
        },
        "id": "VxngtNuZV_7H",
        "outputId": "54b77420-1ec0-47d2-90de-6586f08e41a5"
      },
      "execution_count": 16,
      "outputs": [
        {
          "output_type": "error",
          "ename": "TypeError",
          "evalue": "type() takes 1 or 3 arguments",
          "traceback": [
            "\u001b[0;31m---------------------------------------------------------------------------\u001b[0m",
            "\u001b[0;31mTypeError\u001b[0m                                 Traceback (most recent call last)",
            "\u001b[0;32m/tmp/ipython-input-2480988943.py\u001b[0m in \u001b[0;36m<cell line: 0>\u001b[0;34m()\u001b[0m\n\u001b[0;32m----> 1\u001b[0;31m \u001b[0mtype\u001b[0m\u001b[0;34m(\u001b[0m\u001b[0;36m1\u001b[0m\u001b[0;34m,\u001b[0m\u001b[0;36m2\u001b[0m\u001b[0;34m)\u001b[0m \u001b[0;31m#la virgule des chiffres decimal est un point \"attention\"\u001b[0m\u001b[0;34m\u001b[0m\u001b[0;34m\u001b[0m\u001b[0m\n\u001b[0m",
            "\u001b[0;31mTypeError\u001b[0m: type() takes 1 or 3 arguments"
          ]
        }
      ]
    },
    {
      "cell_type": "code",
      "source": [
        "#phrases / lettres  =>  str (string)\n",
        "name = \"Oumaima\"  #la variable de name est egale à Oumaima\n",
        "print(name)"
      ],
      "metadata": {
        "colab": {
          "base_uri": "https://localhost:8080/"
        },
        "id": "iZ888KhTWOsP",
        "outputId": "9f00cca7-3ada-48c2-d391-ebf02ea663ac"
      },
      "execution_count": 18,
      "outputs": [
        {
          "output_type": "stream",
          "name": "stdout",
          "text": [
            "Oumaima\n"
          ]
        }
      ]
    },
    {
      "cell_type": "code",
      "source": [
        "type(name) #type str b est un type de lettres , phrases"
      ],
      "metadata": {
        "colab": {
          "base_uri": "https://localhost:8080/"
        },
        "id": "tFoseSCTWkL0",
        "outputId": "0b10d623-212b-49b9-fdf7-3c91513f579e"
      },
      "execution_count": 19,
      "outputs": [
        {
          "output_type": "execute_result",
          "data": {
            "text/plain": [
              "str"
            ]
          },
          "metadata": {},
          "execution_count": 19
        }
      ]
    },
    {
      "cell_type": "code",
      "source": [
        "first_name = 'Oumaima' #les strings en python sont definit entre '' ou \"\"\n",
        "print(first_name)\n",
        "first_name = \"Oumaima\"\n",
        "print(first_name)"
      ],
      "metadata": {
        "colab": {
          "base_uri": "https://localhost:8080/"
        },
        "id": "CulyEiQBYMlT",
        "outputId": "5604f2b6-0539-428a-f949-8b9e19f5d50e"
      },
      "execution_count": 20,
      "outputs": [
        {
          "output_type": "stream",
          "name": "stdout",
          "text": [
            "Oumaima\n",
            "Oumaima\n"
          ]
        }
      ]
    },
    {
      "cell_type": "code",
      "source": [
        "#liste\n",
        "list_name_planet=['Mercure','Venus','Terre','Mars','Jupiter','Saturne','Uranus','Neptune'] #une variable ne se definit pas avec des espaces , uniquement avec _ ou des Lettres maj ou min\n",
        "print(list_name_planet)\n",
        "listName = ['Oumaima','Ibtihel']  #une liste se definit entre []\n",
        "print(listName)\n",
        "type(listName)"
      ],
      "metadata": {
        "colab": {
          "base_uri": "https://localhost:8080/"
        },
        "id": "9m_5-6e7aNlL",
        "outputId": "3fe0ff55-f799-4a31-c4ca-c8323d548212"
      },
      "execution_count": 21,
      "outputs": [
        {
          "output_type": "stream",
          "name": "stdout",
          "text": [
            "['Mercure', 'Venus', 'Terre', 'Mars', 'Jupiter', 'Saturne', 'Uranus', 'Neptune']\n",
            "['Oumaima', 'Ibtihel']\n"
          ]
        },
        {
          "output_type": "execute_result",
          "data": {
            "text/plain": [
              "list"
            ]
          },
          "metadata": {},
          "execution_count": 21
        }
      ]
    },
    {
      "cell_type": "code",
      "source": [
        "list_name_planet =[1,'anis']\n",
        "print(list_name_planet)"
      ],
      "metadata": {
        "id": "MK73TVSdbVR1"
      },
      "execution_count": null,
      "outputs": []
    },
    {
      "cell_type": "code",
      "source": [
        "#Dictionnaire\n",
        "student = {} #un dictionnaire se definit entre  {}\n",
        "print(student)\n",
        "type(student)"
      ],
      "metadata": {
        "colab": {
          "base_uri": "https://localhost:8080/"
        },
        "id": "znle5khIbOFk",
        "outputId": "c9ff19a0-7e20-484d-efed-15734dc9ecd3"
      },
      "execution_count": 22,
      "outputs": [
        {
          "output_type": "stream",
          "name": "stdout",
          "text": [
            "{}\n"
          ]
        },
        {
          "output_type": "execute_result",
          "data": {
            "text/plain": [
              "dict"
            ]
          },
          "metadata": {},
          "execution_count": 22
        }
      ]
    },
    {
      "cell_type": "code",
      "source": [
        "student ={ #un dictionnaire est consitué de keys et de items (clés/valeurs)\n",
        " 1 : 'Oumaima',\n",
        " 2 : 'Ibtihel'\n",
        "}\n",
        "print(student)\n",
        "\n"
      ],
      "metadata": {
        "colab": {
          "base_uri": "https://localhost:8080/"
        },
        "id": "9tNUl8FkbvBW",
        "outputId": "1956bc80-85c7-421c-d2ac-3211d9bc7591"
      },
      "execution_count": 23,
      "outputs": [
        {
          "output_type": "stream",
          "name": "stdout",
          "text": [
            "{1: 'Oumaima', 2: 'Ibtihel'}\n"
          ]
        }
      ]
    },
    {
      "cell_type": "code",
      "source": [
        "student[1] #on vient recupere dans la dictionnaire student , la valeur qui a la clé 1 / indexation"
      ],
      "metadata": {
        "colab": {
          "base_uri": "https://localhost:8080/",
          "height": 35
        },
        "id": "TqAKKsmdb_eg",
        "outputId": "e0ff4947-98f0-434d-cb10-4e058b0541e4"
      },
      "execution_count": 24,
      "outputs": [
        {
          "output_type": "execute_result",
          "data": {
            "text/plain": [
              "'Oumaima'"
            ],
            "application/vnd.google.colaboratory.intrinsic+json": {
              "type": "string"
            }
          },
          "metadata": {},
          "execution_count": 24
        }
      ]
    },
    {
      "cell_type": "code",
      "source": [
        "student_list = ['anis','mohamed','bilel']\n",
        "print(student_list)\n",
        "print(student_list[0]) #indexation commence a l'adresse 0 non 1"
      ],
      "metadata": {
        "colab": {
          "base_uri": "https://localhost:8080/"
        },
        "id": "92vsjnCTc1tV",
        "outputId": "3eb16a28-6cba-4347-89e3-207bafb9e2cd"
      },
      "execution_count": 25,
      "outputs": [
        {
          "output_type": "stream",
          "name": "stdout",
          "text": [
            "['anis', 'mohamed', 'bilel']\n",
            "anis\n"
          ]
        }
      ]
    },
    {
      "cell_type": "code",
      "source": [
        "students = {\n",
        "    'a':{\n",
        "        \"name\":\"Oumaima\",\n",
        "        \"age\":24\n",
        "    },\n",
        "    'b':3,\n",
        "    'c':[\"bilel\" , \"zeineb\"]\n",
        "    }\n",
        "print(students)\n",
        "print(students['a'])\n",
        "print(students['a']['name'])\n",
        "print(students['c'])\n",
        "print(students['c'][0])"
      ],
      "metadata": {
        "colab": {
          "base_uri": "https://localhost:8080/"
        },
        "id": "2Vl39Ov-dFOt",
        "outputId": "780bd3ad-b962-410a-bf20-6635dc7ffcb3"
      },
      "execution_count": 26,
      "outputs": [
        {
          "output_type": "stream",
          "name": "stdout",
          "text": [
            "{'a': {'name': 'Oumaima', 'age': 24}, 'b': 3, 'c': ['bilel', 'zeineb']}\n",
            "{'name': 'Oumaima', 'age': 24}\n",
            "Oumaima\n",
            "['bilel', 'zeineb']\n",
            "bilel\n"
          ]
        }
      ]
    },
    {
      "cell_type": "code",
      "source": [
        "#boolean\n",
        "a = True\n",
        "print(a)\n",
        "print (1 == 2 )\n",
        "print (1 <= 2 )\n",
        "print('bilel '== 'Mohamed')\n",
        "print (\"b\" <\"a\")\n",
        "'oumaima ' in student_list\n",
        "'anis' in student_list\n",
        "bool(1)\n",
        "bool(0)"
      ],
      "metadata": {
        "colab": {
          "base_uri": "https://localhost:8080/"
        },
        "id": "u0_vQTOzkNuS",
        "outputId": "3124c219-94de-4e88-cf0e-ff15040dfeba"
      },
      "execution_count": 27,
      "outputs": [
        {
          "output_type": "stream",
          "name": "stdout",
          "text": [
            "True\n",
            "False\n",
            "True\n",
            "False\n",
            "False\n"
          ]
        },
        {
          "output_type": "execute_result",
          "data": {
            "text/plain": [
              "False"
            ]
          },
          "metadata": {},
          "execution_count": 27
        }
      ]
    },
    {
      "cell_type": "markdown",
      "source": [
        "# Les structures de controle\n"
      ],
      "metadata": {
        "id": "220L134gUxI5"
      }
    },
    {
      "cell_type": "code",
      "source": [
        "#Boucle FOR\n",
        "#for VARIABLE in LIST : IMPORANT LE DEUX POINT A LA FIN\n",
        "# INSTRUCTIONS IMPORTANT L'INDENTATION\n",
        "for student in student_list:\n",
        "    print(student)\n",
        "print(student) #afficher le dernier de la liste"
      ],
      "metadata": {
        "colab": {
          "base_uri": "https://localhost:8080/"
        },
        "id": "3YwFIF-neVnT",
        "outputId": "6756755b-8259-4c4e-a4f7-c1759b0b3f66"
      },
      "execution_count": 28,
      "outputs": [
        {
          "output_type": "stream",
          "name": "stdout",
          "text": [
            "anis\n",
            "mohamed\n",
            "bilel\n",
            "bilel\n"
          ]
        }
      ]
    },
    {
      "cell_type": "code",
      "source": [
        "for i in range(0,10): #range est une fonction de python qui permet de creer des listes de 0 a 9\n",
        "    print(i)"
      ],
      "metadata": {
        "colab": {
          "base_uri": "https://localhost:8080/"
        },
        "id": "b0_bfEYXfc_T",
        "outputId": "39898b7d-d784-46ad-d3ca-d7226ec822de"
      },
      "execution_count": 29,
      "outputs": [
        {
          "output_type": "stream",
          "name": "stdout",
          "text": [
            "0\n",
            "1\n",
            "2\n",
            "3\n",
            "4\n",
            "5\n",
            "6\n",
            "7\n",
            "8\n",
            "9\n"
          ]
        }
      ]
    },
    {
      "cell_type": "code",
      "source": [
        "#Condition IF\n",
        "#----------------------------------------------\n",
        "\n",
        "#if CONDITION:   #SI il se passe CONDITION alors on run l'instruction\n",
        "    #instruction\n",
        "\n",
        "#----------------------------------------------\n",
        "\n",
        "\n",
        "#if CONDITION:   #SI il se passe CONDITION alors on run l'instruction sinon run l'instruction 2\n",
        "    #instruction\n",
        "#else:\n",
        "    #instruction\n",
        "\n",
        "#----------------------------------------------\n",
        "#if CONDITION:     #SI il se passe CONDITION alors on run l'instruction sinon si il se passe CONDITION 2 alors run l'instruction 2 sinon il run l'instruction 3\n",
        "    #instruction\n",
        "#elif:             #elif = else if\n",
        "    #instruction\n",
        "#else:\n",
        "     #instruction\n"
      ],
      "metadata": {
        "id": "4jOvyZG1hXxZ"
      },
      "execution_count": 30,
      "outputs": []
    },
    {
      "cell_type": "code",
      "source": [
        "student_list"
      ],
      "metadata": {
        "colab": {
          "base_uri": "https://localhost:8080/"
        },
        "id": "zDcYXD9-ikSr",
        "outputId": "1f2a7152-58d0-4cc4-bb02-4bf8bbd99590"
      },
      "execution_count": 31,
      "outputs": [
        {
          "output_type": "execute_result",
          "data": {
            "text/plain": [
              "['anis', 'mohamed', 'bilel']"
            ]
          },
          "metadata": {},
          "execution_count": 31
        }
      ]
    },
    {
      "cell_type": "code",
      "source": [
        "for student in student_list:\n",
        "  print(student)"
      ],
      "metadata": {
        "colab": {
          "base_uri": "https://localhost:8080/"
        },
        "id": "5_2Se_A0imq0",
        "outputId": "d1d650b7-b795-4d2d-ff1b-7fbf6d217a50"
      },
      "execution_count": 32,
      "outputs": [
        {
          "output_type": "stream",
          "name": "stdout",
          "text": [
            "anis\n",
            "mohamed\n",
            "bilel\n"
          ]
        }
      ]
    },
    {
      "cell_type": "code",
      "source": [
        "print(student_list[2])"
      ],
      "metadata": {
        "colab": {
          "base_uri": "https://localhost:8080/"
        },
        "id": "m4ykESawjOW8",
        "outputId": "e4054f98-b1a8-4c0c-c914-ce7c4c3614a7"
      },
      "execution_count": 33,
      "outputs": [
        {
          "output_type": "stream",
          "name": "stdout",
          "text": [
            "bilel\n"
          ]
        }
      ]
    },
    {
      "cell_type": "code",
      "source": [
        "for student in student_list:\n",
        "  print(student[2]) # il affichier la 3eme letre de chaine de caractere"
      ],
      "metadata": {
        "colab": {
          "base_uri": "https://localhost:8080/"
        },
        "id": "rUaHbFYqjaXd",
        "outputId": "e63e697a-6807-4878-c724-1372e44ed8fd"
      },
      "execution_count": 34,
      "outputs": [
        {
          "output_type": "stream",
          "name": "stdout",
          "text": [
            "i\n",
            "h\n",
            "l\n"
          ]
        }
      ]
    },
    {
      "cell_type": "code",
      "source": [
        "#je veux printer que bilel en utilisant une boucle est une condition\n",
        "for student in student_list:\n",
        "  if student == 'bilel':  #1er indentation du for\n",
        "    print(student) #1er indentation if\n",
        "  else :\n",
        "    print(\"n'est pas bilel\")"
      ],
      "metadata": {
        "colab": {
          "base_uri": "https://localhost:8080/"
        },
        "id": "jl29a26LiukW",
        "outputId": "c336fc70-2f71-4345-95a3-ac3afe73c14b"
      },
      "execution_count": 35,
      "outputs": [
        {
          "output_type": "stream",
          "name": "stdout",
          "text": [
            "n'est pas bilel\n",
            "n'est pas bilel\n",
            "bilel\n"
          ]
        }
      ]
    },
    {
      "cell_type": "code",
      "source": [
        "#sur les entiers de 0 a  19 , quannd inferieur à 10 on affiche 1,\n",
        "#quand supérieur à 10 et inferieur à 15 on affiche 2,\n",
        "#sinon on affiche 0\n",
        "for i in range(0,20):\n",
        "  if i < 10:\n",
        "    print(f\"{i}:1\")   #f-string = chaîne formatée\n",
        "  elif i < 15:\n",
        "    print(f\"{i}:2\")\n",
        "  else:\n",
        "    print(f\"{i} : 0\")\n",
        ""
      ],
      "metadata": {
        "colab": {
          "base_uri": "https://localhost:8080/"
        },
        "id": "DNiXzlDwiR6s",
        "outputId": "173fc293-ed2f-4e7f-f059-8fa2f84632fb"
      },
      "execution_count": 38,
      "outputs": [
        {
          "output_type": "stream",
          "name": "stdout",
          "text": [
            "0:1\n",
            "1:1\n",
            "2:1\n",
            "3:1\n",
            "4:1\n",
            "5:1\n",
            "6:1\n",
            "7:1\n",
            "8:1\n",
            "9:1\n",
            "10:2\n",
            "11:2\n",
            "12:2\n",
            "13:2\n",
            "14:2\n",
            "15 : 0\n",
            "16 : 0\n",
            "17 : 0\n",
            "18 : 0\n",
            "19 : 0\n"
          ]
        }
      ]
    },
    {
      "cell_type": "code",
      "source": [
        "#while boucle avec une condition de sortie\n",
        "#while(CONDITION DE SORTIE):            #Tant que la condition de sortie n'est pas fausse en continue\n",
        "     #INSTRUCTION\n",
        "while(False):\n",
        "  print(\"Bravo !\")"
      ],
      "metadata": {
        "id": "wxXDg4vAnXzV"
      },
      "execution_count": 40,
      "outputs": []
    },
    {
      "cell_type": "code",
      "source": [
        "while(True):\n",
        "  print(\"Bravo !\")\n",
        "  break # SI LA CONDITION TRUE , FAIRE L INSTRUCTION ET SORT"
      ],
      "metadata": {
        "colab": {
          "base_uri": "https://localhost:8080/"
        },
        "id": "DmjgTJfOzpuK",
        "outputId": "d105ae7d-75e2-42af-db26-cc61d74f61ea"
      },
      "execution_count": 43,
      "outputs": [
        {
          "output_type": "stream",
          "name": "stdout",
          "text": [
            "Bravo !\n"
          ]
        }
      ]
    },
    {
      "cell_type": "code",
      "source": [
        "#iteration\n",
        "a=10\n",
        "print(a)\n",
        "a +=1    #+= est abbréviation de a = a+1\n",
        "print(a)"
      ],
      "metadata": {
        "colab": {
          "base_uri": "https://localhost:8080/"
        },
        "id": "j-KiWLfoz-Vf",
        "outputId": "793b8e3f-93ea-423f-ee80-6a1e2459756a"
      },
      "execution_count": 44,
      "outputs": [
        {
          "output_type": "stream",
          "name": "stdout",
          "text": [
            "10\n",
            "11\n"
          ]
        }
      ]
    },
    {
      "cell_type": "code",
      "source": [
        "#i est egale 0\n",
        "#on cree une boucle\n",
        "# i gagne +2 chaque iteration\n",
        "#quand i est superieur à 11 on arréte\n",
        "i=0\n",
        "while(i<11):\n",
        "  i+=2\n",
        "  print(i)\n"
      ],
      "metadata": {
        "colab": {
          "base_uri": "https://localhost:8080/"
        },
        "id": "GwQgth-K0Hge",
        "outputId": "9b7c287c-02c5-4d9f-ae3f-23bcb6c3388d"
      },
      "execution_count": 45,
      "outputs": [
        {
          "output_type": "stream",
          "name": "stdout",
          "text": [
            "2\n",
            "4\n",
            "6\n",
            "8\n",
            "10\n",
            "12\n"
          ]
        }
      ]
    },
    {
      "cell_type": "code",
      "source": [],
      "metadata": {
        "id": "gp-DRip902IA"
      },
      "execution_count": null,
      "outputs": []
    }
  ],
  "metadata": {
    "colab": {
      "name": "Bienvenue dans Colab",
      "toc_visible": true,
      "provenance": [],
      "include_colab_link": true
    },
    "kernelspec": {
      "display_name": "Python 3",
      "name": "python3"
    }
  },
  "nbformat": 4,
  "nbformat_minor": 0
}